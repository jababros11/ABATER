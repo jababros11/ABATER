{
 "cells": [
  {
   "cell_type": "code",
   "execution_count": 876,
   "metadata": {},
   "outputs": [],
   "source": [
    "# this block imports all necessary libraries and a necessary thing is for this code to work, run ganache \n",
    "# and replace the address and publickeys as are required.\n",
    "\n",
    "\n",
    "from eth_utils import address\n",
    "from web3 import Web3\n",
    "import os\n",
    "import solcx\n",
    "from solcx import compile_standard, install_solc\n",
    "from dotenv import load_dotenv\n",
    "import json\n",
    "from hashlib import sha256"
   ]
  },
  {
   "cell_type": "code",
   "execution_count": 877,
   "metadata": {},
   "outputs": [],
   "source": [
    "# opening the SCR contract file\n",
    "\n",
    "with open(\"./SMR.sol\", \"r\") as file:\n",
    "    ratingFile = file.read()\n"
   ]
  },
  {
   "cell_type": "code",
   "execution_count": 878,
   "metadata": {},
   "outputs": [],
   "source": [
    "#compiling smart contract of certifier(SCR)\n",
    "install_solc(\"0.8.2\")\n",
    "compiled_sol = compile_standard(\n",
    "    {\n",
    "        \"language\": \"Solidity\",\n",
    "        \"sources\": {\"SMR.sol\": {\"content\": ratingFile}},\n",
    "        \"settings\": {\n",
    "            \"outputSelection\": {\n",
    "                \"*\": {\n",
    "                    \"*\": [\"abi\", \"metadata\", \"evm.bytecode\", \"evm.bytecode.sourceMap\"]\n",
    "                }\n",
    "            }\n",
    "        },\n",
    "    },\n",
    "    solc_version=\"0.8.2\",\n",
    ")\n",
    "\n",
    "with open(\"compiled_code.json\", \"w\") as file:\n",
    "    json.dump(compiled_sol, file)"
   ]
  },
  {
   "cell_type": "code",
   "execution_count": 879,
   "metadata": {},
   "outputs": [
    {
     "data": {
      "text/plain": [
       "{'contracts': {'SMR.sol': {'SMR': {'abi': [{'inputs': [{'internalType': 'bytes',\n",
       "        'name': 'h',\n",
       "        'type': 'bytes'}],\n",
       "      'name': 'getHash',\n",
       "      'outputs': [{'internalType': 'bytes', 'name': '', 'type': 'bytes'}],\n",
       "      'stateMutability': 'pure',\n",
       "      'type': 'function'},\n",
       "     {'inputs': [{'internalType': 'bytes', 'name': 'hash', 'type': 'bytes'}],\n",
       "      'name': 'getRating',\n",
       "      'outputs': [{'internalType': 'uint256', 'name': '', 'type': 'uint256'}],\n",
       "      'stateMutability': 'view',\n",
       "      'type': 'function'},\n",
       "     {'inputs': [{'internalType': 'bytes',\n",
       "        'name': 'uniqStrng',\n",
       "        'type': 'bytes'},\n",
       "       {'internalType': 'uint256', 'name': 'R', 'type': 'uint256'}],\n",
       "      'name': 'rateMovie',\n",
       "      'outputs': [],\n",
       "      'stateMutability': 'nonpayable',\n",
       "      'type': 'function'},\n",
       "     {'inputs': [{'internalType': 'bytes', 'name': 'hash1', 'type': 'bytes'},\n",
       "       {'internalType': 'bytes', 'name': 'hash2', 'type': 'bytes'}],\n",
       "      'name': 'submitHashes',\n",
       "      'outputs': [],\n",
       "      'stateMutability': 'nonpayable',\n",
       "      'type': 'function'}],\n",
       "    'evm': {'bytecode': {'generatedSources': [],\n",
       "      'linkReferences': {},\n",
       "      'object': '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',\n",
       "      'opcodes': 'PUSH1 0x80 PUSH1 0x40 MSTORE PUSH1 0x64 PUSH1 0x0 SSTORE PUSH1 0x0 PUSH1 0x1 SSTORE CALLVALUE DUP1 ISZERO PUSH2 0x1A JUMPI PUSH1 0x0 DUP1 REVERT JUMPDEST POP PUSH2 0x9F7 DUP1 PUSH2 0x2A PUSH1 0x0 CODECOPY PUSH1 0x0 RETURN INVALID PUSH1 0x80 PUSH1 0x40 MSTORE CALLVALUE DUP1 ISZERO PUSH2 0x10 JUMPI PUSH1 0x0 DUP1 REVERT JUMPDEST POP PUSH1 0x4 CALLDATASIZE LT PUSH2 0x4C JUMPI PUSH1 0x0 CALLDATALOAD PUSH1 0xE0 SHR DUP1 PUSH4 0xAF76F02 EQ PUSH2 0x51 JUMPI DUP1 PUSH4 0x31836E84 EQ PUSH2 0x81 JUMPI DUP1 PUSH4 0x949382BF EQ PUSH2 0x9D JUMPI DUP1 PUSH4 0xB00140AA EQ PUSH2 0xB9 JUMPI JUMPDEST PUSH1 0x0 DUP1 REVERT JUMPDEST PUSH2 0x6B PUSH1 0x4 DUP1 CALLDATASIZE SUB DUP2 ADD SWAP1 PUSH2 0x66 SWAP2 SWAP1 PUSH2 0x4C1 JUMP JUMPDEST PUSH2 0xE9 JUMP JUMPDEST PUSH1 0x40 MLOAD PUSH2 0x78 SWAP2 SWAP1 PUSH2 0x73C JUMP JUMPDEST PUSH1 0x40 MLOAD DUP1 SWAP2 SUB SWAP1 RETURN JUMPDEST PUSH2 0x9B PUSH1 0x4 DUP1 CALLDATASIZE SUB DUP2 ADD SWAP1 PUSH2 0x96 SWAP2 SWAP1 PUSH2 0x56E JUMP JUMPDEST PUSH2 0x111 JUMP JUMPDEST STOP JUMPDEST PUSH2 0xB7 PUSH1 0x4 DUP1 CALLDATASIZE SUB DUP2 ADD SWAP1 PUSH2 0xB2 SWAP2 SWAP1 PUSH2 0x502 JUMP JUMPDEST PUSH2 0x24E JUMP JUMPDEST STOP JUMPDEST PUSH2 0xD3 PUSH1 0x4 DUP1 CALLDATASIZE SUB DUP2 ADD SWAP1 PUSH2 0xCE SWAP2 SWAP1 PUSH2 0x4C1 JUMP JUMPDEST PUSH2 0x2E5 JUMP JUMPDEST PUSH1 0x40 MLOAD PUSH2 0xE0 SWAP2 SWAP1 PUSH2 0x71A JUMP JUMPDEST PUSH1 0x40 MLOAD DUP1 SWAP2 SUB SWAP1 RETURN JUMPDEST PUSH1 0x0 PUSH1 0x3 DUP3 PUSH1 0x40 MLOAD PUSH2 0xFB SWAP2 SWAP1 PUSH2 0x6EC JUMP JUMPDEST SWAP1 DUP2 MSTORE PUSH1 0x20 ADD PUSH1 0x40 MLOAD DUP1 SWAP2 SUB SWAP1 KECCAK256 SLOAD SWAP1 POP SWAP2 SWAP1 POP JUMP JUMPDEST PUSH1 0x0 PUSH1 0x2 DUP4 PUSH1 0x40 MLOAD PUSH2 0x123 SWAP2 SWAP1 PUSH2 0x6EC JUMP JUMPDEST PUSH1 0x20 PUSH1 0x40 MLOAD DUP1 DUP4 SUB DUP2 DUP6 GAS STATICCALL ISZERO DUP1 ISZERO PUSH2 0x140 JUMPI RETURNDATASIZE PUSH1 0x0 DUP1 RETURNDATACOPY RETURNDATASIZE PUSH1 0x0 REVERT JUMPDEST POP POP POP PUSH1 0x40 MLOAD RETURNDATASIZE PUSH1 0x1F NOT PUSH1 0x1F DUP3 ADD AND DUP3 ADD DUP1 PUSH1 0x40 MSTORE POP DUP2 ADD SWAP1 PUSH2 0x163 SWAP2 SWAP1 PUSH2 0x498 JUMP JUMPDEST PUSH1 0x40 MLOAD PUSH1 0x20 ADD PUSH2 0x173 SWAP2 SWAP1 PUSH2 0x6D1 JUMP JUMPDEST PUSH1 0x40 MLOAD PUSH1 0x20 DUP2 DUP4 SUB SUB DUP2 MSTORE SWAP1 PUSH1 0x40 MSTORE SWAP1 POP PUSH1 0x0 JUMPDEST PUSH1 0x4 DUP1 SLOAD SWAP1 POP DUP2 LT ISZERO PUSH2 0x21A JUMPI PUSH1 0x4 DUP2 DUP2 SLOAD DUP2 LT PUSH2 0x1CE JUMPI PUSH32 0x4E487B7100000000000000000000000000000000000000000000000000000000 PUSH1 0x0 MSTORE PUSH1 0x32 PUSH1 0x4 MSTORE PUSH1 0x24 PUSH1 0x0 REVERT JUMPDEST SWAP1 PUSH1 0x0 MSTORE PUSH1 0x20 PUSH1 0x0 KECCAK256 ADD PUSH1 0x40 MLOAD PUSH2 0x1E5 SWAP2 SWAP1 PUSH2 0x703 JUMP JUMPDEST PUSH1 0x40 MLOAD DUP1 SWAP2 SUB SWAP1 KECCAK256 DUP3 DUP1 MLOAD SWAP1 PUSH1 0x20 ADD KECCAK256 EQ ISZERO PUSH2 0x207 JUMPI PUSH1 0x1 DUP1 DUP2 SWAP1 SSTORE POP PUSH2 0x21A JUMP JUMPDEST DUP1 DUP1 PUSH2 0x212 SWAP1 PUSH2 0x8A2 JUMP JUMPDEST SWAP2 POP POP PUSH2 0x187 JUMP JUMPDEST POP PUSH1 0x1 DUP1 SLOAD EQ ISZERO PUSH2 0x249 JUMPI DUP2 PUSH1 0x3 DUP3 PUSH1 0x40 MLOAD PUSH2 0x236 SWAP2 SWAP1 PUSH2 0x6EC JUMP JUMPDEST SWAP1 DUP2 MSTORE PUSH1 0x20 ADD PUSH1 0x40 MLOAD DUP1 SWAP2 SUB SWAP1 KECCAK256 DUP2 SWAP1 SSTORE POP JUMPDEST POP POP POP JUMP JUMPDEST DUP1 PUSH1 0x2 DUP4 PUSH1 0x40 MLOAD PUSH2 0x25F SWAP2 SWAP1 PUSH2 0x6EC JUMP JUMPDEST SWAP1 DUP2 MSTORE PUSH1 0x20 ADD PUSH1 0x40 MLOAD DUP1 SWAP2 SUB SWAP1 KECCAK256 SWAP1 DUP1 MLOAD SWAP1 PUSH1 0x20 ADD SWAP1 PUSH2 0x280 SWAP3 SWAP2 SWAP1 PUSH2 0x363 JUMP JUMPDEST POP PUSH1 0x64 PUSH1 0x3 DUP3 PUSH1 0x40 MLOAD PUSH2 0x293 SWAP2 SWAP1 PUSH2 0x6EC JUMP JUMPDEST SWAP1 DUP2 MSTORE PUSH1 0x20 ADD PUSH1 0x40 MLOAD DUP1 SWAP2 SUB SWAP1 KECCAK256 DUP2 SWAP1 SSTORE POP PUSH1 0x4 DUP2 SWAP1 DUP1 PUSH1 0x1 DUP2 SLOAD ADD DUP1 DUP3 SSTORE DUP1 SWAP2 POP POP PUSH1 0x1 SWAP1 SUB SWAP1 PUSH1 0x0 MSTORE PUSH1 0x20 PUSH1 0x0 KECCAK256 ADD PUSH1 0x0 SWAP1 SWAP2 SWAP1 SWAP2 SWAP1 SWAP2 POP SWAP1 DUP1 MLOAD SWAP1 PUSH1 0x20 ADD SWAP1 PUSH2 0x2E0 SWAP3 SWAP2 SWAP1 PUSH2 0x363 JUMP JUMPDEST POP POP POP JUMP JUMPDEST PUSH1 0x60 PUSH1 0x0 PUSH1 0x2 DUP4 PUSH1 0x40 MLOAD PUSH2 0x2F9 SWAP2 SWAP1 PUSH2 0x6EC JUMP JUMPDEST PUSH1 0x20 PUSH1 0x40 MLOAD DUP1 DUP4 SUB DUP2 DUP6 GAS STATICCALL ISZERO DUP1 ISZERO PUSH2 0x316 JUMPI RETURNDATASIZE PUSH1 0x0 DUP1 RETURNDATACOPY RETURNDATASIZE PUSH1 0x0 REVERT JUMPDEST POP POP POP PUSH1 0x40 MLOAD RETURNDATASIZE PUSH1 0x1F NOT PUSH1 0x1F DUP3 ADD AND DUP3 ADD DUP1 PUSH1 0x40 MSTORE POP DUP2 ADD SWAP1 PUSH2 0x339 SWAP2 SWAP1 PUSH2 0x498 JUMP JUMPDEST PUSH1 0x40 MLOAD PUSH1 0x20 ADD PUSH2 0x349 SWAP2 SWAP1 PUSH2 0x6D1 JUMP JUMPDEST PUSH1 0x40 MLOAD PUSH1 0x20 DUP2 DUP4 SUB SUB DUP2 MSTORE SWAP1 PUSH1 0x40 MSTORE SWAP1 POP DUP1 SWAP2 POP POP SWAP2 SWAP1 POP JUMP JUMPDEST DUP3 DUP1 SLOAD PUSH2 0x36F SWAP1 PUSH2 0x83F JUMP JUMPDEST SWAP1 PUSH1 0x0 MSTORE PUSH1 0x20 PUSH1 0x0 KECCAK256 SWAP1 PUSH1 0x1F ADD PUSH1 0x20 SWAP1 DIV DUP2 ADD SWAP3 DUP3 PUSH2 0x391 JUMPI PUSH1 0x0 DUP6 SSTORE PUSH2 0x3D8 JUMP JUMPDEST DUP3 PUSH1 0x1F LT PUSH2 0x3AA JUMPI DUP1 MLOAD PUSH1 0xFF NOT AND DUP4 DUP1 ADD OR DUP6 SSTORE PUSH2 0x3D8 JUMP JUMPDEST DUP3 DUP1 ADD PUSH1 0x1 ADD DUP6 SSTORE DUP3 ISZERO PUSH2 0x3D8 JUMPI SWAP2 DUP3 ADD JUMPDEST DUP3 DUP2 GT ISZERO PUSH2 0x3D7 JUMPI DUP3 MLOAD DUP3 SSTORE SWAP2 PUSH1 0x20 ADD SWAP2 SWAP1 PUSH1 0x1 ADD SWAP1 PUSH2 0x3BC JUMP JUMPDEST JUMPDEST POP SWAP1 POP PUSH2 0x3E5 SWAP2 SWAP1 PUSH2 0x3E9 JUMP JUMPDEST POP SWAP1 JUMP JUMPDEST JUMPDEST DUP1 DUP3 GT ISZERO PUSH2 0x402 JUMPI PUSH1 0x0 DUP2 PUSH1 0x0 SWAP1 SSTORE POP PUSH1 0x1 ADD PUSH2 0x3EA JUMP JUMPDEST POP SWAP1 JUMP JUMPDEST PUSH1 0x0 PUSH2 0x419 PUSH2 0x414 DUP5 PUSH2 0x77C JUMP JUMPDEST PUSH2 0x757 JUMP JUMPDEST SWAP1 POP DUP3 DUP2 MSTORE PUSH1 0x20 DUP2 ADD DUP5 DUP5 DUP5 ADD GT ISZERO PUSH2 0x431 JUMPI PUSH1 0x0 DUP1 REVERT JUMPDEST PUSH2 0x43C DUP5 DUP3 DUP6 PUSH2 0x7FD JUMP JUMPDEST POP SWAP4 SWAP3 POP POP POP JUMP JUMPDEST PUSH1 0x0 DUP2 MLOAD SWAP1 POP PUSH2 0x453 DUP2 PUSH2 0x993 JUMP JUMPDEST SWAP3 SWAP2 POP POP JUMP JUMPDEST PUSH1 0x0 DUP3 PUSH1 0x1F DUP4 ADD SLT PUSH2 0x46A JUMPI PUSH1 0x0 DUP1 REVERT JUMPDEST DUP2 CALLDATALOAD PUSH2 0x47A DUP5 DUP3 PUSH1 0x20 DUP7 ADD PUSH2 0x406 JUMP JUMPDEST SWAP2 POP POP SWAP3 SWAP2 POP POP JUMP JUMPDEST PUSH1 0x0 DUP2 CALLDATALOAD SWAP1 POP PUSH2 0x492 DUP2 PUSH2 0x9AA JUMP JUMPDEST SWAP3 SWAP2 POP POP JUMP JUMPDEST PUSH1 0x0 PUSH1 0x20 DUP3 DUP5 SUB SLT ISZERO PUSH2 0x4AA JUMPI PUSH1 0x0 DUP1 REVERT JUMPDEST PUSH1 0x0 PUSH2 0x4B8 DUP5 DUP3 DUP6 ADD PUSH2 0x444 JUMP JUMPDEST SWAP2 POP POP SWAP3 SWAP2 POP POP JUMP JUMPDEST PUSH1 0x0 PUSH1 0x20 DUP3 DUP5 SUB SLT ISZERO PUSH2 0x4D3 JUMPI PUSH1 0x0 DUP1 REVERT JUMPDEST PUSH1 0x0 DUP3 ADD CALLDATALOAD PUSH8 0xFFFFFFFFFFFFFFFF DUP2 GT ISZERO PUSH2 0x4ED JUMPI PUSH1 0x0 DUP1 REVERT JUMPDEST PUSH2 0x4F9 DUP5 DUP3 DUP6 ADD PUSH2 0x459 JUMP JUMPDEST SWAP2 POP POP SWAP3 SWAP2 POP POP JUMP JUMPDEST PUSH1 0x0 DUP1 PUSH1 0x40 DUP4 DUP6 SUB SLT ISZERO PUSH2 0x515 JUMPI PUSH1 0x0 DUP1 REVERT JUMPDEST PUSH1 0x0 DUP4 ADD CALLDATALOAD PUSH8 0xFFFFFFFFFFFFFFFF DUP2 GT ISZERO PUSH2 0x52F JUMPI PUSH1 0x0 DUP1 REVERT JUMPDEST PUSH2 0x53B DUP6 DUP3 DUP7 ADD PUSH2 0x459 JUMP JUMPDEST SWAP3 POP POP PUSH1 0x20 DUP4 ADD CALLDATALOAD PUSH8 0xFFFFFFFFFFFFFFFF DUP2 GT ISZERO PUSH2 0x558 JUMPI PUSH1 0x0 DUP1 REVERT JUMPDEST PUSH2 0x564 DUP6 DUP3 DUP7 ADD PUSH2 0x459 JUMP JUMPDEST SWAP2 POP POP SWAP3 POP SWAP3 SWAP1 POP JUMP JUMPDEST PUSH1 0x0 DUP1 PUSH1 0x40 DUP4 DUP6 SUB SLT ISZERO PUSH2 0x581 JUMPI PUSH1 0x0 DUP1 REVERT JUMPDEST PUSH1 0x0 DUP4 ADD CALLDATALOAD PUSH8 0xFFFFFFFFFFFFFFFF DUP2 GT ISZERO PUSH2 0x59B JUMPI PUSH1 0x0 DUP1 REVERT JUMPDEST PUSH2 0x5A7 DUP6 DUP3 DUP7 ADD PUSH2 0x459 JUMP JUMPDEST SWAP3 POP POP PUSH1 0x20 PUSH2 0x5B8 DUP6 DUP3 DUP7 ADD PUSH2 0x483 JUMP JUMPDEST SWAP2 POP POP SWAP3 POP SWAP3 SWAP1 POP JUMP JUMPDEST PUSH2 0x5D3 PUSH2 0x5CE DUP3 PUSH2 0x7E9 JUMP JUMPDEST PUSH2 0x8EB JUMP JUMPDEST DUP3 MSTORE POP POP JUMP JUMPDEST PUSH1 0x0 PUSH2 0x5E4 DUP3 PUSH2 0x7C2 JUMP JUMPDEST PUSH2 0x5EE DUP2 DUP6 PUSH2 0x7CD JUMP JUMPDEST SWAP4 POP PUSH2 0x5FE DUP2 DUP6 PUSH1 0x20 DUP7 ADD PUSH2 0x80C JUMP JUMPDEST PUSH2 0x607 DUP2 PUSH2 0x982 JUMP JUMPDEST DUP5 ADD SWAP2 POP POP SWAP3 SWAP2 POP POP JUMP JUMPDEST PUSH1 0x0 PUSH2 0x61D DUP3 PUSH2 0x7C2 JUMP JUMPDEST PUSH2 0x627 DUP2 DUP6 PUSH2 0x7DE JUMP JUMPDEST SWAP4 POP PUSH2 0x637 DUP2 DUP6 PUSH1 0x20 DUP7 ADD PUSH2 0x80C JUMP JUMPDEST DUP1 DUP5 ADD SWAP2 POP POP SWAP3 SWAP2 POP POP JUMP JUMPDEST PUSH1 0x0 DUP2 SLOAD PUSH2 0x650 DUP2 PUSH2 0x83F JUMP JUMPDEST PUSH2 0x65A DUP2 DUP7 PUSH2 0x7DE JUMP JUMPDEST SWAP5 POP PUSH1 0x1 DUP3 AND PUSH1 0x0 DUP2 EQ PUSH2 0x675 JUMPI PUSH1 0x1 DUP2 EQ PUSH2 0x686 JUMPI PUSH2 0x6B9 JUMP JUMPDEST PUSH1 0xFF NOT DUP4 AND DUP7 MSTORE DUP2 DUP7 ADD SWAP4 POP PUSH2 0x6B9 JUMP JUMPDEST PUSH2 0x68F DUP6 PUSH2 0x7AD JUMP JUMPDEST PUSH1 0x0 JUMPDEST DUP4 DUP2 LT ISZERO PUSH2 0x6B1 JUMPI DUP2 SLOAD DUP2 DUP10 ADD MSTORE PUSH1 0x1 DUP3 ADD SWAP2 POP PUSH1 0x20 DUP2 ADD SWAP1 POP PUSH2 0x692 JUMP JUMPDEST DUP4 DUP9 ADD SWAP6 POP POP POP JUMPDEST POP POP POP SWAP3 SWAP2 POP POP JUMP JUMPDEST PUSH2 0x6CB DUP2 PUSH2 0x7F3 JUMP JUMPDEST DUP3 MSTORE POP POP JUMP JUMPDEST PUSH1 0x0 PUSH2 0x6DD DUP3 DUP5 PUSH2 0x5C2 JUMP JUMPDEST PUSH1 0x20 DUP3 ADD SWAP2 POP DUP2 SWAP1 POP SWAP3 SWAP2 POP POP JUMP JUMPDEST PUSH1 0x0 PUSH2 0x6F8 DUP3 DUP5 PUSH2 0x612 JUMP JUMPDEST SWAP2 POP DUP2 SWAP1 POP SWAP3 SWAP2 POP POP JUMP JUMPDEST PUSH1 0x0 PUSH2 0x70F DUP3 DUP5 PUSH2 0x643 JUMP JUMPDEST SWAP2 POP DUP2 SWAP1 POP SWAP3 SWAP2 POP POP JUMP JUMPDEST PUSH1 0x0 PUSH1 0x20 DUP3 ADD SWAP1 POP DUP2 DUP2 SUB PUSH1 0x0 DUP4 ADD MSTORE PUSH2 0x734 DUP2 DUP5 PUSH2 0x5D9 JUMP JUMPDEST SWAP1 POP SWAP3 SWAP2 POP POP JUMP JUMPDEST PUSH1 0x0 PUSH1 0x20 DUP3 ADD SWAP1 POP PUSH2 0x751 PUSH1 0x0 DUP4 ADD DUP5 PUSH2 0x6C2 JUMP JUMPDEST SWAP3 SWAP2 POP POP JUMP JUMPDEST PUSH1 0x0 PUSH2 0x761 PUSH2 0x772 JUMP JUMPDEST SWAP1 POP PUSH2 0x76D DUP3 DUP3 PUSH2 0x871 JUMP JUMPDEST SWAP2 SWAP1 POP JUMP JUMPDEST PUSH1 0x0 PUSH1 0x40 MLOAD SWAP1 POP SWAP1 JUMP JUMPDEST PUSH1 0x0 PUSH8 0xFFFFFFFFFFFFFFFF DUP3 GT ISZERO PUSH2 0x797 JUMPI PUSH2 0x796 PUSH2 0x953 JUMP JUMPDEST JUMPDEST PUSH2 0x7A0 DUP3 PUSH2 0x982 JUMP JUMPDEST SWAP1 POP PUSH1 0x20 DUP2 ADD SWAP1 POP SWAP2 SWAP1 POP JUMP JUMPDEST PUSH1 0x0 DUP2 SWAP1 POP DUP2 PUSH1 0x0 MSTORE PUSH1 0x20 PUSH1 0x0 KECCAK256 SWAP1 POP SWAP2 SWAP1 POP JUMP JUMPDEST PUSH1 0x0 DUP2 MLOAD SWAP1 POP SWAP2 SWAP1 POP JUMP JUMPDEST PUSH1 0x0 DUP3 DUP3 MSTORE PUSH1 0x20 DUP3 ADD SWAP1 POP SWAP3 SWAP2 POP POP JUMP JUMPDEST PUSH1 0x0 DUP2 SWAP1 POP SWAP3 SWAP2 POP POP JUMP JUMPDEST PUSH1 0x0 DUP2 SWAP1 POP SWAP2 SWAP1 POP JUMP JUMPDEST PUSH1 0x0 DUP2 SWAP1 POP SWAP2 SWAP1 POP JUMP JUMPDEST DUP3 DUP2 DUP4 CALLDATACOPY PUSH1 0x0 DUP4 DUP4 ADD MSTORE POP POP POP JUMP JUMPDEST PUSH1 0x0 JUMPDEST DUP4 DUP2 LT ISZERO PUSH2 0x82A JUMPI DUP1 DUP3 ADD MLOAD DUP2 DUP5 ADD MSTORE PUSH1 0x20 DUP2 ADD SWAP1 POP PUSH2 0x80F JUMP JUMPDEST DUP4 DUP2 GT ISZERO PUSH2 0x839 JUMPI PUSH1 0x0 DUP5 DUP5 ADD MSTORE JUMPDEST POP POP POP POP JUMP JUMPDEST PUSH1 0x0 PUSH1 0x2 DUP3 DIV SWAP1 POP PUSH1 0x1 DUP3 AND DUP1 PUSH2 0x857 JUMPI PUSH1 0x7F DUP3 AND SWAP2 POP JUMPDEST PUSH1 0x20 DUP3 LT DUP2 EQ ISZERO PUSH2 0x86B JUMPI PUSH2 0x86A PUSH2 0x924 JUMP JUMPDEST JUMPDEST POP SWAP2 SWAP1 POP JUMP JUMPDEST PUSH2 0x87A DUP3 PUSH2 0x982 JUMP JUMPDEST DUP2 ADD DUP2 DUP2 LT PUSH8 0xFFFFFFFFFFFFFFFF DUP3 GT OR ISZERO PUSH2 0x899 JUMPI PUSH2 0x898 PUSH2 0x953 JUMP JUMPDEST JUMPDEST DUP1 PUSH1 0x40 MSTORE POP POP POP JUMP JUMPDEST PUSH1 0x0 PUSH2 0x8AD DUP3 PUSH2 0x7F3 JUMP JUMPDEST SWAP2 POP PUSH32 0xFFFFFFFFFFFFFFFFFFFFFFFFFFFFFFFFFFFFFFFFFFFFFFFFFFFFFFFFFFFFFFFF DUP3 EQ ISZERO PUSH2 0x8E0 JUMPI PUSH2 0x8DF PUSH2 0x8F5 JUMP JUMPDEST JUMPDEST PUSH1 0x1 DUP3 ADD SWAP1 POP SWAP2 SWAP1 POP JUMP JUMPDEST PUSH1 0x0 DUP2 SWAP1 POP SWAP2 SWAP1 POP JUMP JUMPDEST PUSH32 0x4E487B7100000000000000000000000000000000000000000000000000000000 PUSH1 0x0 MSTORE PUSH1 0x11 PUSH1 0x4 MSTORE PUSH1 0x24 PUSH1 0x0 REVERT JUMPDEST PUSH32 0x4E487B7100000000000000000000000000000000000000000000000000000000 PUSH1 0x0 MSTORE PUSH1 0x22 PUSH1 0x4 MSTORE PUSH1 0x24 PUSH1 0x0 REVERT JUMPDEST PUSH32 0x4E487B7100000000000000000000000000000000000000000000000000000000 PUSH1 0x0 MSTORE PUSH1 0x41 PUSH1 0x4 MSTORE PUSH1 0x24 PUSH1 0x0 REVERT JUMPDEST PUSH1 0x0 PUSH1 0x1F NOT PUSH1 0x1F DUP4 ADD AND SWAP1 POP SWAP2 SWAP1 POP JUMP JUMPDEST PUSH2 0x99C DUP2 PUSH2 0x7E9 JUMP JUMPDEST DUP2 EQ PUSH2 0x9A7 JUMPI PUSH1 0x0 DUP1 REVERT JUMPDEST POP JUMP JUMPDEST PUSH2 0x9B3 DUP2 PUSH2 0x7F3 JUMP JUMPDEST DUP2 EQ PUSH2 0x9BE JUMPI PUSH1 0x0 DUP1 REVERT JUMPDEST POP JUMP INVALID LOG2 PUSH5 0x6970667358 0x22 SLT KECCAK256 PUSH6 0x149763F0A2B1 DELEGATECALL MLOAD 0xAB 0xC5 0xA9 PUSH10 0x79A3C8803F27A4E6736A 0x2C PUSH16 0xCA9133225AB5F564736F6C6343000802 STOP CALLER ',\n",
       "      'sourceMap': '62:1103:0:-:0;;;93:3;81:15;;114:1;102:13;;62:1103;;;;;;;;;;;;;;;;'}},\n",
       "    'metadata': '{\"compiler\":{\"version\":\"0.8.2+commit.661d1103\"},\"language\":\"Solidity\",\"output\":{\"abi\":[{\"inputs\":[{\"internalType\":\"bytes\",\"name\":\"h\",\"type\":\"bytes\"}],\"name\":\"getHash\",\"outputs\":[{\"internalType\":\"bytes\",\"name\":\"\",\"type\":\"bytes\"}],\"stateMutability\":\"pure\",\"type\":\"function\"},{\"inputs\":[{\"internalType\":\"bytes\",\"name\":\"hash\",\"type\":\"bytes\"}],\"name\":\"getRating\",\"outputs\":[{\"internalType\":\"uint256\",\"name\":\"\",\"type\":\"uint256\"}],\"stateMutability\":\"view\",\"type\":\"function\"},{\"inputs\":[{\"internalType\":\"bytes\",\"name\":\"uniqStrng\",\"type\":\"bytes\"},{\"internalType\":\"uint256\",\"name\":\"R\",\"type\":\"uint256\"}],\"name\":\"rateMovie\",\"outputs\":[],\"stateMutability\":\"nonpayable\",\"type\":\"function\"},{\"inputs\":[{\"internalType\":\"bytes\",\"name\":\"hash1\",\"type\":\"bytes\"},{\"internalType\":\"bytes\",\"name\":\"hash2\",\"type\":\"bytes\"}],\"name\":\"submitHashes\",\"outputs\":[],\"stateMutability\":\"nonpayable\",\"type\":\"function\"}],\"devdoc\":{\"kind\":\"dev\",\"methods\":{},\"version\":1},\"userdoc\":{\"kind\":\"user\",\"methods\":{},\"version\":1}},\"settings\":{\"compilationTarget\":{\"SMR.sol\":\"SMR\"},\"evmVersion\":\"istanbul\",\"libraries\":{},\"metadata\":{\"bytecodeHash\":\"ipfs\"},\"optimizer\":{\"enabled\":false,\"runs\":200},\"remappings\":[]},\"sources\":{\"SMR.sol\":{\"keccak256\":\"0x291942cc117b7fab6214dc52d34e6967f8ca745c0767267af4cb225a58c7bdb9\",\"license\":\"GPL-3.0\",\"urls\":[\"bzz-raw://57345b19bb765702948f2a8246e27d01379bdc0f9b6831ae79f1aa5463871061\",\"dweb:/ipfs/QmWFUsKG27seeBZ6pSspJraXiTmTkYNjCXTdmURkn2P3ER\"]}},\"version\":1}'}}},\n",
       " 'sources': {'SMR.sol': {'id': 0}}}"
      ]
     },
     "execution_count": 879,
     "metadata": {},
     "output_type": "execute_result"
    }
   ],
   "source": [
    "compiled_sol"
   ]
  },
  {
   "cell_type": "code",
   "execution_count": 880,
   "metadata": {},
   "outputs": [],
   "source": [
    "#plain SMR is the contract name itself\n",
    "\n",
    "\n",
    "# get bytecode\n",
    "bytecode = compiled_sol[\"contracts\"][\"SMR.sol\"][\"SMR\"][\"evm\"][\"bytecode\"][\"object\"]\n",
    "\n",
    "# get abi\n",
    "abi = json.loads(\n",
    "    compiled_sol[\"contracts\"][\"SMR.sol\"][\"SMR\"][\"metadata\"]\n",
    ")[\"output\"][\"abi\"]"
   ]
  },
  {
   "cell_type": "code",
   "execution_count": 881,
   "metadata": {},
   "outputs": [
    {
     "data": {
      "text/plain": [
       "[{'inputs': [{'internalType': 'bytes', 'name': 'h', 'type': 'bytes'}],\n",
       "  'name': 'getHash',\n",
       "  'outputs': [{'internalType': 'bytes', 'name': '', 'type': 'bytes'}],\n",
       "  'stateMutability': 'pure',\n",
       "  'type': 'function'},\n",
       " {'inputs': [{'internalType': 'bytes', 'name': 'hash', 'type': 'bytes'}],\n",
       "  'name': 'getRating',\n",
       "  'outputs': [{'internalType': 'uint256', 'name': '', 'type': 'uint256'}],\n",
       "  'stateMutability': 'view',\n",
       "  'type': 'function'},\n",
       " {'inputs': [{'internalType': 'bytes', 'name': 'uniqStrng', 'type': 'bytes'},\n",
       "   {'internalType': 'uint256', 'name': 'R', 'type': 'uint256'}],\n",
       "  'name': 'rateMovie',\n",
       "  'outputs': [],\n",
       "  'stateMutability': 'nonpayable',\n",
       "  'type': 'function'},\n",
       " {'inputs': [{'internalType': 'bytes', 'name': 'hash1', 'type': 'bytes'},\n",
       "   {'internalType': 'bytes', 'name': 'hash2', 'type': 'bytes'}],\n",
       "  'name': 'submitHashes',\n",
       "  'outputs': [],\n",
       "  'stateMutability': 'nonpayable',\n",
       "  'type': 'function'}]"
      ]
     },
     "execution_count": 881,
     "metadata": {},
     "output_type": "execute_result"
    }
   ],
   "source": [
    "abi"
   ]
  },
  {
   "cell_type": "code",
   "execution_count": 882,
   "metadata": {},
   "outputs": [],
   "source": [
    "chainID = 1337\n",
    "chain_id =chainID\n",
    "httpServer = \"HTTP://127.0.0.1:7545\"\n",
    "w3 = Web3(Web3.HTTPProvider(httpServer))"
   ]
  },
  {
   "cell_type": "code",
   "execution_count": 883,
   "metadata": {},
   "outputs": [],
   "source": [
    "# set up connection for the rating architecture\n",
    "\n",
    "my_address = '0x9aEA0a629bE7cb6327C36Dd7352AC05bCF396786'\n",
    "private_key = '0x6998fefb52154033306ee67bd83ccdc32417a1b3c0dd91d19921c6e2d4c8ec54'"
   ]
  },
  {
   "cell_type": "code",
   "execution_count": 884,
   "metadata": {},
   "outputs": [],
   "source": [
    "def initializeSMR():\n",
    "        # initialize contract\n",
    "\n",
    "    SMR = w3.eth.contract(abi=abi, bytecode=bytecode)\n",
    "    nonce = w3.eth.get_transaction_count(my_address)\n",
    "    # set up transaction from constructor which executes when firstly we are trasacting the smart contract\n",
    "\n",
    "    transaction = SMR.constructor().build_transaction(\n",
    "        {\"chainId\": chain_id, \"from\": my_address, \"nonce\": nonce}\n",
    "    )\n",
    "    \n",
    "    \n",
    "    # Second requirement sign the transaction\n",
    "    signed_tx = w3.eth.account.sign_transaction(transaction, private_key=private_key)\n",
    "\n",
    "    # Third requirement is to get the transation hash value\n",
    "\n",
    "    tx_hash = w3.eth.send_raw_transaction(signed_tx.rawTransaction)\n",
    "\n",
    "    #  after geeting hash get the recipetpt of the transaction\n",
    "    \n",
    "    tx_receipt = w3.eth.wait_for_transaction_receipt(tx_hash)\n",
    "\n",
    "    return tx_receipt\n"
   ]
  },
  {
   "cell_type": "code",
   "execution_count": 885,
   "metadata": {},
   "outputs": [],
   "source": [
    "# Function to store value on SMR\n",
    "\n",
    "def submitHashes(tx_receipt, hash1, hash2):\n",
    "    # calling functions in contract block\n",
    "    # to work with a contract, you need abi and address\n",
    "    #  this line call the the contract by passing the abi and adress of the transactoin\n",
    "\n",
    "    registration_sol = w3.eth.contract(abi=abi, address=tx_receipt.contractAddress)\n",
    "\n",
    "    #  whenever we want to update something we trsact that value so gas is used for \n",
    "    # that purpose we agin perform the transaction\n",
    "\n",
    "    call_fun = registration_sol.functions.submitHashes(hash1, hash2).build_transaction(\n",
    "        {\"chainId\": chain_id, \"from\": my_address, \"nonce\": w3.eth.get_transaction_count(my_address)}\n",
    "    )\n",
    "    # again sign and same procedure\n",
    "\n",
    "    sign_call_fun = w3.eth.account.sign_transaction(call_fun, private_key=private_key)\n",
    "    tx_call_fun_hash = w3.eth.send_raw_transaction(sign_call_fun.rawTransaction)\n",
    "    tx_call_fun_receipt = w3.eth.wait_for_transaction_receipt(tx_call_fun_hash)\n",
    "    "
   ]
  },
  {
   "cell_type": "code",
   "execution_count": 886,
   "metadata": {},
   "outputs": [],
   "source": [
    "# Function to store value on SMR\n",
    "\n",
    "def rateMovie(tx_receipt, unqStr, rating):\n",
    "    # calling functions in contract block\n",
    "    # to work with a contract, you need abi and address\n",
    "    #  this line call the the contract by passing the abi and adress of the transactoin\n",
    "\n",
    "    registration_sol = w3.eth.contract(abi=abi, address=tx_receipt.contractAddress)\n",
    "\n",
    "    #  whenever we want to update something we trsact that value so gas is used for \n",
    "    # that purpose we agin perform the transaction\n",
    "\n",
    "    call_fun = registration_sol.functions.rateMovie(unqStr, rating).build_transaction(\n",
    "        {\"chainId\": chain_id, \"from\": my_address, \"nonce\": w3.eth.get_transaction_count(my_address)}\n",
    "    )\n",
    "    # again sign and same procedure\n",
    "\n",
    "    sign_call_fun = w3.eth.account.sign_transaction(call_fun, private_key=private_key)\n",
    "    tx_call_fun_hash = w3.eth.send_raw_transaction(sign_call_fun.rawTransaction)\n",
    "    tx_call_fun_receipt = w3.eth.wait_for_transaction_receipt(tx_call_fun_hash)"
   ]
  },
  {
   "cell_type": "code",
   "execution_count": 887,
   "metadata": {},
   "outputs": [],
   "source": [
    "def getRating(tx_receipt, unqstr):\n",
    "    #certifier etrieves the submitted encrypted UID by the contract adress \n",
    "    registration_sol = w3.eth.contract(abi=abi, address=tx_receipt.contractAddress)\n",
    "    ret = registration_sol.functions.getRating(unqstr).call() \n",
    "    print(ret)\n",
    "    return ret \n"
   ]
  },
  {
   "cell_type": "code",
   "execution_count": 888,
   "metadata": {},
   "outputs": [],
   "source": [
    "def hashConvert(input):\n",
    "    hash = sha256(input.encode('utf-8')).digest()\n",
    "    # hash = hash.encode('utf-8')\n",
    "    print(hash)\n",
    "    return hash"
   ]
  },
  {
   "cell_type": "code",
   "execution_count": 889,
   "metadata": {},
   "outputs": [
    {
     "name": "stdout",
     "output_type": "stream",
     "text": [
      "b'\\xca\\x97\\x81\\x12\\xca\\x1b\\xbd\\xca\\xfa\\xc21\\xb3\\x9a#\\xdcM\\xa7\\x86\\xef\\xf8\\x14|Nr\\xb9\\x80w\\x85\\xaf\\xeeH\\xbb'\n",
      "b'\\x0b\\xfe\\x93^p\\xc3!\\xc7\\xca:\\xfcu\\xce\\r\\x0c\\xa2\\xf9\\x8bT\"\\xe0\\x08\\xbb1\\xc0\\x0cm\\x7f\\x1f\\x1c\\n\\xd6'\n",
      "b'\\x0b\\xfe\\x93^p\\xc3!\\xc7\\xca:\\xfcu\\xce\\r\\x0c\\xa2\\xf9\\x8bT\"\\xe0\\x08\\xbb1\\xc0\\x0cm\\x7f\\x1f\\x1c\\n\\xd6'\n",
      "5\n",
      "5\n"
     ]
    }
   ],
   "source": [
    "rec = initializeSMR()\n",
    "submitHashes(rec, hashConvert('a'), hashConvert('u'))\n",
    "rateMovie(rec,'u'.encode(), 5)\n",
    "ret = getRating(rec, hashConvert('u'))\n",
    "print(ret)\n"
   ]
  }
 ],
 "metadata": {
  "kernelspec": {
   "display_name": "Python 3",
   "language": "python",
   "name": "python3"
  },
  "language_info": {
   "codemirror_mode": {
    "name": "ipython",
    "version": 3
   },
   "file_extension": ".py",
   "mimetype": "text/x-python",
   "name": "python",
   "nbconvert_exporter": "python",
   "pygments_lexer": "ipython3",
   "version": "3.10.12"
  }
 },
 "nbformat": 4,
 "nbformat_minor": 2
}
